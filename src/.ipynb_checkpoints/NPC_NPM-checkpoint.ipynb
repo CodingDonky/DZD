{
 "cells": [
  {
   "cell_type": "code",
   "execution_count": 1,
   "metadata": {
    "collapsed": true
   },
   "outputs": [],
   "source": [
    "import os, sys\n",
    "import random\n",
    "import numpy as np\n",
    "\n",
    "sys.path.append('./utilities/')\n",
    "from global_utilities import *\n",
    "from loading_utilities_pathfinder import *\n",
    "\n",
    "# Load all Pathfinder data\n",
    "#data = load_pathfinder_data()"
   ]
  },
  {
   "cell_type": "code",
   "execution_count": 2,
   "metadata": {
    "collapsed": true,
    "scrolled": true
   },
   "outputs": [],
   "source": [
    "spell = get_random_spell( spell_level=2 )\n",
    "armor = get_random_armor()\n",
    "weapon = get_random_weapon()\n",
    "\n",
    "trait = get_random_trait()\n",
    "magicItem = get_random_magicItem()\n",
    "beast = get_random_beast()"
   ]
  },
  {
   "cell_type": "markdown",
   "metadata": {},
   "source": [
    "Frieza\n",
    "Kakarot\n",
    "Vegeta\n",
    "Krillin\n",
    "Yamcha\n",
    "Bulma\n",
    "Cell\n",
    "Mr. Satan"
   ]
  },
  {
   "cell_type": "code",
   "execution_count": 3,
   "metadata": {
    "collapsed": true
   },
   "outputs": [],
   "source": [
    "accent_list = ['Russian', 'Boston', 'Slav', 'Egyptian', '']\n",
    "character_personality = ['Frank Reynolds', 'Dee Reynolds', 'Dennis Reynolds', 'Frieza', 'Kakarot', 'Vegeta',\n",
    "                        'Krillin', 'Yamcha', 'Bulma', 'Cell', 'Mr. Satan']\n",
    "\n",
    "def get_random_accent():\n",
    "    return random.choice()\n",
    "\n",
    "def NPC(  ):\n",
    "    \"\"\"\n",
    "    Contains all relevant info for creating a Pathfinder NPC.\n",
    "    \"\"\"\n",
    "    def __init__( name ):\n",
    "        self.name = name\n",
    "        self.accent = ''\n",
    "        \n",
    "        self.armor = []\n",
    "        self.weapons = []\n",
    "        self.spells = []\n",
    "        self.magicItems = []\n",
    "        self.traits = []"
   ]
  },
  {
   "cell_type": "code",
   "execution_count": 4,
   "metadata": {},
   "outputs": [
    {
     "name": "stdout",
     "output_type": "stream",
     "text": [
      "<class 'pandas.core.series.Series'>\n",
      "Trait Name: Unpredictable Reactions\n",
      "---------------------\n",
      "Benefit: You gain a +1trait bonusonattack rollsmade during thesurpriseround of combat.\n",
      "Source: COB\n"
     ]
    }
   ],
   "source": [
    "print_info(trait)"
   ]
  },
  {
   "cell_type": "code",
   "execution_count": 11,
   "metadata": {
    "collapsed": true
   },
   "outputs": [],
   "source": [
    "class NPC:\n",
    "    def __init__(self, name):\n",
    "        self.name = name\n",
    "        self.armor = get_random_armor()\n",
    "        self.weapon = get_random_weapon()\n",
    "        self.spells = None\n",
    "        self.magicItems = None\n",
    "        \n",
    "class NPM:\n",
    "    def __init__(self):\n",
    "        self.monsterInfo = \"\""
   ]
  },
  {
   "cell_type": "code",
   "execution_count": 42,
   "metadata": {},
   "outputs": [
    {
     "name": "stderr",
     "output_type": "stream",
     "text": [
      "/Users/newberry/anaconda2/lib/python2.7/site-packages/ipykernel_launcher.py:1: UserWarning: Boolean Series key will be reindexed to match DataFrame index.\n",
      "  \"\"\"Entry point for launching an IPython kernel.\n"
     ]
    },
    {
     "data": {
      "text/html": [
       "<div>\n",
       "<style scoped>\n",
       "    .dataframe tbody tr th:only-of-type {\n",
       "        vertical-align: middle;\n",
       "    }\n",
       "\n",
       "    .dataframe tbody tr th {\n",
       "        vertical-align: top;\n",
       "    }\n",
       "\n",
       "    .dataframe thead th {\n",
       "        text-align: right;\n",
       "    }\n",
       "</style>\n",
       "<table border=\"1\" class=\"dataframe\">\n",
       "  <thead>\n",
       "    <tr style=\"text-align: right;\">\n",
       "      <th></th>\n",
       "      <th>Armor</th>\n",
       "      <th>Cost</th>\n",
       "      <th>Armor/Shield Bonus</th>\n",
       "      <th>MaximumDexBonus</th>\n",
       "      <th>Armor Check Penalty</th>\n",
       "      <th>Arcane Spell Failure Chance</th>\n",
       "      <th>Speed-30</th>\n",
       "      <th>Speed-20</th>\n",
       "      <th>Weight1</th>\n",
       "      <th>Source</th>\n",
       "      <th>Type</th>\n",
       "    </tr>\n",
       "  </thead>\n",
       "  <tbody>\n",
       "    <tr>\n",
       "      <th>49</th>\n",
       "      <td>Buckler</td>\n",
       "      <td>5 gp</td>\n",
       "      <td>1</td>\n",
       "      <td>—</td>\n",
       "      <td>-1</td>\n",
       "      <td>0.05</td>\n",
       "      <td>—</td>\n",
       "      <td>—</td>\n",
       "      <td>5 lbs.</td>\n",
       "      <td>PZO1110</td>\n",
       "      <td>Shield</td>\n",
       "    </tr>\n",
       "    <tr>\n",
       "      <th>50</th>\n",
       "      <td>Klar</td>\n",
       "      <td>12 gp</td>\n",
       "      <td>1</td>\n",
       "      <td>—</td>\n",
       "      <td>-1</td>\n",
       "      <td>0.05</td>\n",
       "      <td>—</td>\n",
       "      <td>—</td>\n",
       "      <td>6 lbs.</td>\n",
       "      <td>PCS:ISWG</td>\n",
       "      <td>Shield</td>\n",
       "    </tr>\n",
       "    <tr>\n",
       "      <th>53</th>\n",
       "      <td>Shield, light steel</td>\n",
       "      <td>9 gp</td>\n",
       "      <td>1</td>\n",
       "      <td>—</td>\n",
       "      <td>-1</td>\n",
       "      <td>0.05</td>\n",
       "      <td>—</td>\n",
       "      <td>—</td>\n",
       "      <td>6 lbs.</td>\n",
       "      <td>PZO1110</td>\n",
       "      <td>Shield</td>\n",
       "    </tr>\n",
       "    <tr>\n",
       "      <th>55</th>\n",
       "      <td>Shield, light wooden</td>\n",
       "      <td>3 gp</td>\n",
       "      <td>1</td>\n",
       "      <td>—</td>\n",
       "      <td>-1</td>\n",
       "      <td>0.05</td>\n",
       "      <td>—</td>\n",
       "      <td>—</td>\n",
       "      <td>5 lbs.</td>\n",
       "      <td>PZO1110</td>\n",
       "      <td>Shield</td>\n",
       "    </tr>\n",
       "    <tr>\n",
       "      <th>62</th>\n",
       "      <td>War-shield, dwarven</td>\n",
       "      <td>50 gp</td>\n",
       "      <td>1</td>\n",
       "      <td>—</td>\n",
       "      <td>-1</td>\n",
       "      <td>0.2</td>\n",
       "      <td>—</td>\n",
       "      <td>—</td>\n",
       "      <td>8 lbs.</td>\n",
       "      <td>PPZO94102</td>\n",
       "      <td>Shield</td>\n",
       "    </tr>\n",
       "  </tbody>\n",
       "</table>\n",
       "</div>"
      ],
      "text/plain": [
       "                   Armor   Cost Armor/Shield Bonus MaximumDexBonus  \\\n",
       "49               Buckler   5 gp                  1               —   \n",
       "50                  Klar  12 gp                  1               —   \n",
       "53   Shield, light steel   9 gp                  1               —   \n",
       "55  Shield, light wooden   3 gp                  1               —   \n",
       "62   War-shield, dwarven  50 gp                  1               —   \n",
       "\n",
       "   Armor Check Penalty Arcane Spell Failure Chance Speed-30 Speed-20 Weight1  \\\n",
       "49                  -1                        0.05        —        —  5 lbs.   \n",
       "50                  -1                        0.05        —        —  6 lbs.   \n",
       "53                  -1                        0.05        —        —  6 lbs.   \n",
       "55                  -1                        0.05        —        —  5 lbs.   \n",
       "62                  -1                         0.2        —        —  8 lbs.   \n",
       "\n",
       "       Source    Type  \n",
       "49    PZO1110  Shield  \n",
       "50   PCS:ISWG  Shield  \n",
       "53    PZO1110  Shield  \n",
       "55    PZO1110  Shield  \n",
       "62  PPZO94102  Shield  "
      ]
     },
     "execution_count": 42,
     "metadata": {},
     "output_type": "execute_result"
    }
   ],
   "source": [
    "armor_data[ armor_data['Armor/Shield Bonus']==1 ][ armor_data['Armor Check Penalty']==-1 ]"
   ]
  }
 ],
 "metadata": {
  "kernelspec": {
   "display_name": "Python 3",
   "language": "python",
   "name": "python3"
  },
  "language_info": {
   "codemirror_mode": {
    "name": "ipython",
    "version": 2
   },
   "file_extension": ".py",
   "mimetype": "text/x-python",
   "name": "python",
   "nbconvert_exporter": "python",
   "pygments_lexer": "ipython2",
   "version": "2.7.3"
  }
 },
 "nbformat": 4,
 "nbformat_minor": 2
}
