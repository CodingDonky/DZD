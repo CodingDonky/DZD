{
 "cells": [
  {
   "cell_type": "code",
   "execution_count": 1,
   "metadata": {
    "collapsed": true
   },
   "outputs": [],
   "source": [
    "from utilities.global_utilities import *"
   ]
  },
  {
   "cell_type": "code",
   "execution_count": 44,
   "metadata": {
    "collapsed": true
   },
   "outputs": [],
   "source": [
    "# Anything that can be picked up and carried\n",
    "class Object:\n",
    "    def __init__(self, name, value, weight, condition=1):\n",
    "        self.name = name\n",
    "        self.value = int( value )\n",
    "        self.weight = int( weight )\n",
    "        \n",
    "        self.setCondition(condition)\n",
    "        \n",
    "    def __str__(self):\n",
    "        string = 'A '+object_conditions_dict_inv[self.condition]+' '+self.name+\\\n",
    "            '. It is worth '+str(self.value)+' gold and weighs '+str(self.weight)+\\\n",
    "            ' pounds.'\n",
    "        #print(string)\n",
    "        return string\n",
    "        \n",
    "    def setCondition(self, condition):\n",
    "        # \"perfect condition\" converts to zero, number increases\n",
    "        #  as the quality decreases\n",
    "        if type(condition) == int:\n",
    "            assert condition in object_conditions_numerical\n",
    "        elif type(condition) == str:\n",
    "            assert condition in object_conditions\n",
    "            condition = object_conditions_dict[condition]\n",
    "        \n",
    "        self.condition = condition\n",
    "        \n",
    "    def isArmor(self):\n",
    "        return False\n",
    "    \n",
    "    def isWeapon(self):\n",
    "        return False\n",
    "    \n",
    "\n",
    "# Can be worn or put in pack\n",
    "class Equipment(Object):\n",
    "    def __init__(self, name, value, weight, equip_region, condition=1):\n",
    "        # Call parent class initialization method\n",
    "        Object.__init__(self, name, value, weight, condition)\n",
    "        \n",
    "        assert equip_region in equip_regions\n",
    "        \n",
    "        self.equip_region = equip_region\n",
    "        \n",
    "# Anything that provides armor bonuses and can be worn        \n",
    "class Armor(Equipment):\n",
    "    def __init__(self, name, value, weight, equip_region, \n",
    "                 armor_points, armor_type, condition=1):\n",
    "        # Call parent class initialization method\n",
    "        Equipment.__init__(self, name, value, weight, equip_region, \n",
    "                           condition)\n",
    "        \n",
    "        assert armor_type in armor_types\n",
    "\n",
    "        self.armor_points = armor_points\n",
    "        self.armor_type = armor_type\n",
    "    \n",
    "    def isArmor(self):\n",
    "        return True\n",
    "\n",
    "# Anything that can be held and used to attack with\n",
    "class Weapon(Equipment):\n",
    "    def __init__(self, name, value, weight, equip_region, \n",
    "                 weapon_hit_bonus, weapon_damage, condition=1):\n",
    "        # Call parent class initialization method\n",
    "        Equipment.__init__(self, name, value, weight, equip_region, \n",
    "                           condition)\n",
    "        \n",
    "        self.weapon_hit_bonus = weapon_hit_bonus\n",
    "        self.weapon_damage = weapon_damage\n",
    "        \n",
    "    def isWeapon(self):\n",
    "        return True"
   ]
  },
  {
   "cell_type": "code",
   "execution_count": 49,
   "metadata": {},
   "outputs": [
    {
     "name": "stdout",
     "output_type": "stream",
     "text": [
      "A pristine bronze helm. It is worth 5 gold and weighs 15 pounds.\n"
     ]
    }
   ],
   "source": [
    "helmet = Equipment('bronze helm', 5, 15, 'head')\n",
    "print(helmet)"
   ]
  },
  {
   "cell_type": "code",
   "execution_count": 47,
   "metadata": {
    "collapsed": true
   },
   "outputs": [],
   "source": []
  },
  {
   "cell_type": "code",
   "execution_count": 48,
   "metadata": {},
   "outputs": [
    {
     "ename": "TypeError",
     "evalue": "__init__() missing 5 required positional arguments: 'value', 'weight', 'equip_region', 'weapon_hit_bonus', and 'weapon_damage'",
     "output_type": "error",
     "traceback": [
      "\u001b[0;31m---------------------------------------------------------------------------\u001b[0m",
      "\u001b[0;31mTypeError\u001b[0m                                 Traceback (most recent call last)",
      "\u001b[0;32m<ipython-input-48-a08984582201>\u001b[0m in \u001b[0;36m<module>\u001b[0;34m\u001b[0m\n\u001b[0;32m----> 1\u001b[0;31m \u001b[0mtest\u001b[0m \u001b[0;34m=\u001b[0m \u001b[0mWeapon\u001b[0m\u001b[0;34m(\u001b[0m\u001b[0mtest_weapon\u001b[0m\u001b[0;34m)\u001b[0m\u001b[0;34m\u001b[0m\u001b[0m\n\u001b[0m",
      "\u001b[0;31mTypeError\u001b[0m: __init__() missing 5 required positional arguments: 'value', 'weight', 'equip_region', 'weapon_hit_bonus', and 'weapon_damage'"
     ]
    }
   ],
   "source": [
    "test = Weapon('helm', 5, 15, 'head', 8, 'heavy')"
   ]
  },
  {
   "cell_type": "code",
   "execution_count": 61,
   "metadata": {},
   "outputs": [
    {
     "name": "stdout",
     "output_type": "stream",
     "text": [
      "A worn steel longsword. It is worth 24 gold and weighs 7 pounds.\n"
     ]
    }
   ],
   "source": [
    "def from_dict_to_equipment( dic ):\n",
    "    \n",
    "    # If is armor\n",
    "    if 'armor_points' in dic.keys():\n",
    "        return Weapon(dic['name'], dic['value'], dic['weight'], dic['equip_region'], \n",
    "                      dic['armor_points'], dic['armor_type'], dic['condition'])\n",
    "    \n",
    "    # If is weapon\n",
    "    if 'weapon_damage' in dic.keys():\n",
    "        return Weapon(dic['name'], dic['value'], dic['weight'], dic['equip_region'], \n",
    "                      dic['weapon_hit_bonus'], dic['weapon_damage'], dic['condition'])\n",
    "    \n",
    "    # If is equipment\n",
    "    if 'equip_region' in dic.keys():\n",
    "        return Weapon(dic['name'], dic['value'], dic['weight'], dic['equip_region'], \n",
    "                      dic['condition'])\n",
    "    \n",
    "    # If is object\n",
    "    if 'weight' in dic.keys():\n",
    "        return Weapon(dic['name'], dic['value'], dic['weight'], dic['condition'])\n",
    "    \n",
    "test_weapon = {'name':'steel longsword',\n",
    "              'value':24,\n",
    "              'weight':7,\n",
    "              'equip_region':'held_rh',\n",
    "              'weapon_hit_bonus':'2',\n",
    "              'weapon_damage':'1d6+1',\n",
    "              'condition':2\n",
    "              }\n",
    "\n",
    "weapon = from_dict_to_equipment( test_weapon )\n",
    "print(weapon)"
   ]
  },
  {
   "cell_type": "code",
   "execution_count": null,
   "metadata": {
    "collapsed": true
   },
   "outputs": [],
   "source": []
  },
  {
   "cell_type": "code",
   "execution_count": null,
   "metadata": {
    "collapsed": true
   },
   "outputs": [],
   "source": []
  }
 ],
 "metadata": {
  "kernelspec": {
   "display_name": "Python 3",
   "language": "python",
   "name": "python3"
  },
  "language_info": {
   "codemirror_mode": {
    "name": "ipython",
    "version": 2
   },
   "file_extension": ".py",
   "mimetype": "text/x-python",
   "name": "python",
   "nbconvert_exporter": "python",
   "pygments_lexer": "ipython2",
   "version": "2.7.3"
  }
 },
 "nbformat": 4,
 "nbformat_minor": 2
}
