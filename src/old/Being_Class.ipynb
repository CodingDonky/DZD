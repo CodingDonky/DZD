{
 "cells": [
  {
   "cell_type": "code",
   "execution_count": 4,
   "metadata": {},
   "outputs": [],
   "source": [
    "from utilities.global_utilities import *"
   ]
  },
  {
   "cell_type": "code",
   "execution_count": 18,
   "metadata": {},
   "outputs": [],
   "source": [
    "worn = {\n",
    "        'head':None,\n",
    "        'chest':None,\n",
    "        'legs':None,\n",
    "        'hands':None,\n",
    "        'feet':None,\n",
    "        'ring':None,\n",
    "        'necklace':None,\n",
    "        'held_2h':None,\n",
    "        'held_rh':None,\n",
    "        'held_lh':None}"
   ]
  },
  {
   "cell_type": "code",
   "execution_count": 2,
   "metadata": {},
   "outputs": [],
   "source": [
    "class Inventory:\n",
    "    def __init__(self):\n",
    "        self.equipped = {equip_region:None for equip_region in equip_regions}\n",
    "        self.carried = []\n",
    "        \n",
    "    def equip(self, equipment):\n",
    "        slot = equipment.equip_region\n",
    "        self.unequip( slot )\n",
    "        self.equipped[slot] = equipment\n",
    "        \n",
    "    def unequip(self, slot):\n",
    "        curr_equipped = self.equipped[ slot ]\n",
    "        \n",
    "        if curr_equipped==None:\n",
    "            return\n",
    "        else:\n",
    "            self.carried.append( curr_equipped )\n",
    "            self.equipped[ slot ] = None \n",
    "        \n",
    "\n",
    "class Attributes:\n",
    "    def __init__(self, str=10, dex=10, con=10, int=10, wis=10, cha=10):\n",
    "        self.str = str\n",
    "        self.dex = dex\n",
    "        self.con = con\n",
    "        self.int = int\n",
    "        self.wis = wis\n",
    "        self.cha = cha\n",
    "        \n",
    "class Being:\n",
    "    def __init__(self):\n",
    "        self.stats = Attributes()\n",
    "        self.items = Inventory()"
   ]
  },
  {
   "cell_type": "code",
   "execution_count": 13,
   "metadata": {},
   "outputs": [],
   "source": [
    "bear_att = Attributes( str=18 )"
   ]
  },
  {
   "cell_type": "code",
   "execution_count": 3,
   "metadata": {},
   "outputs": [
    {
     "ename": "NameError",
     "evalue": "name 'equip_regions' is not defined",
     "output_type": "error",
     "traceback": [
      "\u001b[0;31m---------------------------------------------------------------------------\u001b[0m",
      "\u001b[0;31mNameError\u001b[0m                                 Traceback (most recent call last)",
      "\u001b[0;32m<ipython-input-3-1660229d3530>\u001b[0m in \u001b[0;36m<module>\u001b[0;34m\u001b[0m\n\u001b[0;32m----> 1\u001b[0;31m \u001b[0mInventory\u001b[0m\u001b[0;34m(\u001b[0m\u001b[0;34m)\u001b[0m\u001b[0;34m\u001b[0m\u001b[0m\n\u001b[0m",
      "\u001b[0;32m<ipython-input-2-7d4ed6493ed1>\u001b[0m in \u001b[0;36m__init__\u001b[0;34m(self)\u001b[0m\n\u001b[1;32m      1\u001b[0m \u001b[0;32mclass\u001b[0m \u001b[0mInventory\u001b[0m\u001b[0;34m:\u001b[0m\u001b[0;34m\u001b[0m\u001b[0m\n\u001b[1;32m      2\u001b[0m     \u001b[0;32mdef\u001b[0m \u001b[0m__init__\u001b[0m\u001b[0;34m(\u001b[0m\u001b[0mself\u001b[0m\u001b[0;34m)\u001b[0m\u001b[0;34m:\u001b[0m\u001b[0;34m\u001b[0m\u001b[0m\n\u001b[0;32m----> 3\u001b[0;31m         \u001b[0mself\u001b[0m\u001b[0;34m.\u001b[0m\u001b[0mequiped\u001b[0m \u001b[0;34m=\u001b[0m \u001b[0;34m{\u001b[0m\u001b[0mequip_region\u001b[0m\u001b[0;34m:\u001b[0m\u001b[0;32mNone\u001b[0m \u001b[0;32mfor\u001b[0m \u001b[0mequip_region\u001b[0m \u001b[0;32min\u001b[0m \u001b[0mequip_regions\u001b[0m\u001b[0;34m}\u001b[0m\u001b[0;34m\u001b[0m\u001b[0m\n\u001b[0m\u001b[1;32m      4\u001b[0m \u001b[0;34m\u001b[0m\u001b[0m\n\u001b[1;32m      5\u001b[0m \u001b[0;31m#         self.worn = {\u001b[0m\u001b[0;34m\u001b[0m\u001b[0;34m\u001b[0m\u001b[0m\n",
      "\u001b[0;31mNameError\u001b[0m: name 'equip_regions' is not defined"
     ]
    }
   ],
   "source": [
    "Inventory()"
   ]
  },
  {
   "cell_type": "code",
   "execution_count": null,
   "metadata": {},
   "outputs": [],
   "source": []
  }
 ],
 "metadata": {
  "kernelspec": {
   "display_name": "Python_3",
   "language": "python",
   "name": "python_3"
  },
  "language_info": {
   "codemirror_mode": {
    "name": "ipython",
    "version": 3
   },
   "file_extension": ".py",
   "mimetype": "text/x-python",
   "name": "python",
   "nbconvert_exporter": "python",
   "pygments_lexer": "ipython3",
   "version": "3.7.0"
  }
 },
 "nbformat": 4,
 "nbformat_minor": 2
}
